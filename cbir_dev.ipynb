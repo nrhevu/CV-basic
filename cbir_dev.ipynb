{
 "cells": [
  {
   "cell_type": "code",
   "execution_count": null,
   "metadata": {},
   "outputs": [],
   "source": [
    "import cv2\n",
    "import matplotlib.pyplot as plt\n",
    "import torch\n",
    "import torchvision\n",
    "import torchvision.transforms as transforms\n",
    "from PIL import Image\n",
    "\n",
    "mean = [0.485, 0.456, 0.406]\n",
    "std = [0.229, 0.224, 0.225]\n",
    "transform = transforms.Compose(\n",
    "    [\n",
    "        transforms.ToTensor(),\n",
    "        transforms.Resize((224, 224)),\n",
    "        # transforms.Normalize(mean, std),\n",
    "        # lambda x: torch.flip(x, [1]),\n",
    "        # transforms.Normalize(mean=[0.5, 0.5, 0.5], std=[0.5, 0.5, 0.5]),\n",
    "    ]\n",
    ")\n",
    "dataset = torchvision.datasets.ImageFolder(\n",
    "    root=\"./data/caltech101/train\",\n",
    "    transform=transform,\n",
    ")\n",
    "\n",
    "valset = torchvision.datasets.ImageFolder(\n",
    "    root=\"./data/caltech101/val\",\n",
    "    transform=transform,\n",
    ")\n",
    "\n",
    "testset = torchvision.datasets.ImageFolder(\n",
    "    root=\"./data/caltech101/test\",\n",
    "    transform=transform,\n",
    ")\n",
    "\n",
    "dataloader = torch.utils.data.DataLoader(\n",
    "    dataset, batch_size=128, shuffle=False, num_workers=2\n",
    ")\n",
    "\n",
    "valloader = torch.utils.data.DataLoader(\n",
    "    valset, batch_size=128, shuffle=False, num_workers=2\n",
    ")\n",
    "\n",
    "testloader = torch.utils.data.DataLoader(\n",
    "    testset, batch_size=128, shuffle=False, num_workers=2\n",
    ")"
   ]
  },
  {
   "cell_type": "code",
   "execution_count": null,
   "metadata": {},
   "outputs": [],
   "source": [
    "from cbir import *\n",
    "from cbir.pipeline import *\n",
    "\n",
    "rgb_histogram = RGBHistogram(n_bin=8, h_type=\"region\")\n",
    "resnet = ResNetExtractor(model = \"resnet18\", device=\"cuda\")\n",
    "siftbow = SIFTBOWExtractor(mode=\"tfidf\")\n",
    "# vgg16 = VGG16Extractor(device=\"cuda\")\n",
    "array_store = NPArrayStore(retrieve=KNNRetrieval(metric=\"cosine\"))"
   ]
  },
  {
   "cell_type": "code",
   "execution_count": null,
   "metadata": {},
   "outputs": [],
   "source": [
    "from tqdm import tqdm\n",
    "import numpy as np\n",
    "train_img = []\n",
    "for images, labels in tqdm(valloader):\n",
    "    images = (images.numpy().transpose(0,2,3,1) * 255).astype(np.uint8)\n",
    "    train_img.append(images)\n",
    "    \n",
    "train_img = np.concatenate(train_img)\n",
    "siftbow.fit(train_img, k=64)"
   ]
  },
  {
   "cell_type": "code",
   "execution_count": null,
   "metadata": {},
   "outputs": [],
   "source": [
    "cbir = CBIR(resnet, array_store)"
   ]
  },
  {
   "cell_type": "code",
   "execution_count": null,
   "metadata": {},
   "outputs": [],
   "source": [
    "for images, labels in tqdm(dataloader):\n",
    "    # images = (images.numpy().transpose(0,2,3,1) * 255).astype(np.uint8)\n",
    "    images = images.numpy()\n",
    "    cbir.indexing(images)"
   ]
  },
  {
   "cell_type": "code",
   "execution_count": null,
   "metadata": {},
   "outputs": [],
   "source": [
    "cbir.feature_extractor.mode = \"tfidf\""
   ]
  },
  {
   "cell_type": "code",
   "execution_count": null,
   "metadata": {},
   "outputs": [],
   "source": [
    "img = cv2.imread(\"/home/edtechai/works/vunt/CV-basic/data/caltech101/test/ant/image_0024.jpg\")\n",
    "img = transform(img)\n",
    "# img = (img.numpy().transpose(1,2,0) * 255).astype(np.uint8)\n",
    "img = img.unsqueeze(0).numpy()"
   ]
  },
  {
   "cell_type": "code",
   "execution_count": null,
   "metadata": {},
   "outputs": [],
   "source": [
    "# rs = cbir.retrieve(np.expand_dims(img, axis=0), k=5)\n",
    "rs = cbir.retrieve(img, k=10)"
   ]
  },
  {
   "cell_type": "code",
   "execution_count": null,
   "metadata": {},
   "outputs": [],
   "source": [
    "import matplotlib.pyplot as plt\n",
    "fig, ax = plt.subplots(2,5)\n",
    "for i, r in enumerate(rs[0]):\n",
    "    ax[i // 5][i % 5].imshow(r.image.transpose((1, 2, 0)))\n",
    "    # ax[i // 5][i % 5].imshow(r.image)\n",
    "    ax[i // 5][i % 5].axis(\"off\")\n",
    "plt.show()"
   ]
  },
  {
   "cell_type": "code",
   "execution_count": null,
   "metadata": {},
   "outputs": [],
   "source": [
    "rs = []\n",
    "ground_truth = []\n",
    "for images, labels in tqdm(testloader):\n",
    "    # images = (images.numpy().transpose(0,2,3,1) * 255).astype(np.uint8)\n",
    "    images = images.numpy()\n",
    "    rs.extend(cbir.retrieve(images, k=10))\n",
    "    ground_truth.extend(labels)"
   ]
  },
  {
   "cell_type": "code",
   "execution_count": null,
   "metadata": {},
   "outputs": [],
   "source": [
    "np.take(dataset.targets, predicted, axis=0)"
   ]
  },
  {
   "cell_type": "code",
   "execution_count": null,
   "metadata": {},
   "outputs": [],
   "source": [
    "def average_precision(predictions, ground_truths, k):\n",
    "    top_k_predictions = predictions[:k]\n",
    "    \n",
    "    relevant_items = sum(1 for pred in top_k_predictions if pred in ground_truths)\n",
    "    \n",
    "    ap = relevant_items / len(top_k_predictions)\n",
    "    \n",
    "    return ap\n",
    "\n",
    "def hit_rate(predictions, ground_truths, k):\n",
    "    top_k_predictions = predictions[:k]\n",
    "    \n",
    "    relevant_items = sum(1 for pred in top_k_predictions if pred in ground_truths)\n",
    "    \n",
    "    hit = 1 if relevant_items >= 1 else 0\n",
    "    \n",
    "    return hit"
   ]
  },
  {
   "cell_type": "code",
   "execution_count": null,
   "metadata": {},
   "outputs": [],
   "source": [
    "ap = []\n",
    "hit = []\n",
    "for r, g in zip(rs, ground_truth):\n",
    "    predicted = []\n",
    "    for i in r:\n",
    "        predicted.append(i.index)\n",
    "    class_preds = np.take(dataset.targets, predicted, axis=0)\n",
    "    ap.append(average_precision(class_preds.tolist(), [g.tolist()], 10))\n",
    "    hit.append(hit_rate(class_preds.tolist(), [g.tolist()], 10))"
   ]
  },
  {
   "cell_type": "code",
   "execution_count": null,
   "metadata": {},
   "outputs": [],
   "source": [
    "pd.concat"
   ]
  },
  {
   "cell_type": "code",
   "execution_count": null,
   "metadata": {},
   "outputs": [],
   "source": [
    "np.mean(ap)\n",
    "np.mean(hit)"
   ]
  },
  {
   "cell_type": "code",
   "execution_count": null,
   "metadata": {},
   "outputs": [],
   "source": [
    "import pandas as pd\n",
    "pd.DataFrame({\"options\": [1], \"map\": [np.mean(ap)], \"hit_rate\": [np.mean(hit)]})"
   ]
  },
  {
   "cell_type": "code",
   "execution_count": null,
   "metadata": {},
   "outputs": [],
   "source": [
    "def grid(*args):\n",
    "    if len(args) == 1:\n",
    "        for k in args[0]:\n",
    "            yield [k]\n",
    "    else:\n",
    "        for k in args[0]:\n",
    "            for rest in grid(*args[1:]):\n",
    "                yield([k] + rest)"
   ]
  },
  {
   "cell_type": "code",
   "execution_count": null,
   "metadata": {},
   "outputs": [],
   "source": [
    "for a in grid([1, 2, 3], [4, 5, 6], [1, 3, 2]):\n",
    "    print(a)"
   ]
  },
  {
   "cell_type": "code",
   "execution_count": null,
   "metadata": {},
   "outputs": [],
   "source": [
    "for p in {\"a\": [1, 3, 4], \"b\": [12, 5, 7]}:\n",
    "    break\n",
    "\n",
    "p"
   ]
  }
 ],
 "metadata": {
  "kernelspec": {
   "display_name": "cvbasic",
   "language": "python",
   "name": "python3"
  },
  "language_info": {
   "codemirror_mode": {
    "name": "ipython",
    "version": 3
   },
   "file_extension": ".py",
   "mimetype": "text/x-python",
   "name": "python",
   "nbconvert_exporter": "python",
   "pygments_lexer": "ipython3",
   "version": "3.9.19"
  }
 },
 "nbformat": 4,
 "nbformat_minor": 2
}
