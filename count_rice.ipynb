{
 "cells": [
  {
   "cell_type": "code",
   "execution_count": null,
   "metadata": {},
   "outputs": [],
   "source": [
    "import cv2\n",
    "import matplotlib.pyplot as plt\n",
    "import numpy as np\n",
    "from PIL import Image\n",
    "from scipy import ndimage\n",
    "\n",
    "\n",
    "def count_rice_number(img_path):\n",
    "    # Load the uploaded image\n",
    "    img = cv2.imread(img_path)\n",
    "    \n",
    "    ## Convert image to grayscale image \n",
    "    gray = cv2.cvtColor(img, cv2.COLOR_BGR2GRAY)\n",
    "    img_np = np.array(gray)\n",
    "\n",
    "    ############################################################\n",
    "    ##### Add MedianFilter to remove salt and pepper noise #####\n",
    "    ############################################################\n",
    "    gray = cv2.medianBlur(gray, 3)\n",
    "    gray = cv2.GaussianBlur(gray, (3, 3), 0)\n",
    "\n",
    "    #############################################\n",
    "    ######## Apply Fourier Transform ############\n",
    "    #############################################\n",
    "    f = np.fft.fft2(np.array(gray))\n",
    "    fshift = np.fft.fftshift(f)\n",
    "    # Calculate magnitude and phase of frequency spectrum\n",
    "    magnitude = np.abs(fshift)\n",
    "    phase = np.angle(fshift)\n",
    "    # Create a mask to remove the high frequencies related to the stride\n",
    "    rows, cols = img_np.shape\n",
    "    crow, ccol = rows // 2 , cols // 2   # center\n",
    "    # Create a mask with high frequencies (outside a certain radius) removed\n",
    "    mask = np.ones((rows, cols), np.uint8)\n",
    "    # Remove frequencies outside the central low-frequency components (keep low-frequency data)\n",
    "    mask[crow, ccol - 8] = 0\n",
    "    mask[crow, ccol + 8] = 0\n",
    "    new_maginute = magnitude * mask\n",
    "    # Combine magnitude and phase information\n",
    "    fft_shifted_img = new_maginute * np.exp(1j * phase)\n",
    "    # Apply inverse shift to move origin back to top-left\n",
    "    f_ishift = np.fft.ifftshift(fft_shifted_img)\n",
    "    # Inverse Fourier Transform to get the image back\n",
    "    img_filtered = np.fft.ifft2(f_ishift)\n",
    "    img_filtered = np.abs(img_filtered)\n",
    "\n",
    "\n",
    "    ##########################################\n",
    "    ########### Image Enhancement ############\n",
    "    ##########################################\n",
    "    ## Increase the brightness by 50\n",
    "    gray = img_filtered.astype(np.uint8)\n",
    "    gray = cv2.convertScaleAbs(gray, alpha=1, beta=50)\n",
    "    ## Apply CLAHE to enhance constrast\n",
    "    clahe = cv2.createCLAHE(clipLimit=2.0, tileGridSize=(8, 8))\n",
    "    gray = clahe.apply(gray)\n",
    "\n",
    "    gamma = 2.2\n",
    "    gray = cv2.convertScaleAbs(gray, alpha=1, beta=0)\n",
    "\n",
    "    ##########################################\n",
    "    ####### Convert to binary image ##########\n",
    "    ##########################################\n",
    "    ## Convert image to binary image using thresholding with otsu threshold\n",
    "    # _, thresh_image = cv2.threshold(gray.astype(np.uint8), 0, 255, cv2.THRESH_BINARY + cv2.THRESH_OTSU)\n",
    "    thresh_image = cv2.adaptiveThreshold(gray, 255, cv2.ADAPTIVE_THRESH_GAUSSIAN_C, cv2.THRESH_BINARY, 151, 1)\n",
    "\n",
    "\n",
    "    ##########################################\n",
    "    ######## Process on binary image #########\n",
    "    ##########################################\n",
    "    ## Apply erosion to deal with sticking object\n",
    "    kernel = np.ones((3, 3), np.uint8)\n",
    "    thresh_image = cv2.morphologyEx(thresh_image, cv2.MORPH_OPEN, kernel, iterations=3)\n",
    "    kernel = np.ones((5, 5), np.uint8)\n",
    "    thresh_image = cv2.morphologyEx(thresh_image, cv2.MORPH_ERODE, kernel, iterations=1)\n",
    "    # thresh_image = cv2.morphologyEx(thresh_image, cv2.MORPH_CLOSE, kernel, iterations=1)\n",
    "\n",
    "    ########################################################################\n",
    "    ######  Caculate the number of rice using count connectedComponets #####\n",
    "    ########################################################################\n",
    "    num_labels, labels = cv2.connectedComponents(thresh_image)\n",
    "\n",
    "    print(f\"The number of rice in the image is {num_labels}\")\n",
    "    return Image.fromarray(thresh_image)"
   ]
  },
  {
   "cell_type": "code",
   "execution_count": null,
   "metadata": {},
   "outputs": [],
   "source": [
    "count_rice_number(\"data/prj1-2/1_wIXlvBeAFtNVgJd49VObgQ.png\")"
   ]
  },
  {
   "cell_type": "code",
   "execution_count": null,
   "metadata": {},
   "outputs": [],
   "source": [
    "count_rice_number(\"data/prj1-2/1_wIXlvBeAFtNVgJd49VObgQ.png_Salt_Pepper_Noise1.png\")"
   ]
  },
  {
   "cell_type": "code",
   "execution_count": null,
   "metadata": {},
   "outputs": [],
   "source": [
    "count_rice_number(\"data/prj1-2/1_wIXlvBeAFtNVgJd49VObgQ_sinus.png\")"
   ]
  },
  {
   "cell_type": "code",
   "execution_count": null,
   "metadata": {},
   "outputs": [],
   "source": [
    "count_rice_number(\"data/prj1-2/1_zd6ypc20QAIFMzrbCmJRMg.png\")"
   ]
  }
 ],
 "metadata": {
  "kernelspec": {
   "display_name": "spelling_auto_correction",
   "language": "python",
   "name": "python3"
  },
  "language_info": {
   "codemirror_mode": {
    "name": "ipython",
    "version": 3
   },
   "file_extension": ".py",
   "mimetype": "text/x-python",
   "name": "python",
   "nbconvert_exporter": "python",
   "pygments_lexer": "ipython3",
   "version": "3.9.19"
  }
 },
 "nbformat": 4,
 "nbformat_minor": 2
}
